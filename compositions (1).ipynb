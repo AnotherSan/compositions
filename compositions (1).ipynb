{
 "cells": [
  {
   "cell_type": "markdown",
   "metadata": {},
   "source": [
    "Постановка задачи.\n",
    "1. Используя набор данных с информацией о типе стекла и его химическом составе, произвести классификацию типов стекла. Для классификации типов стекла используйте мета-модель (композицию из различных моделей). Композиция должна состоять из трёх и более базовых моделей.\n",
    "2. Проведите сравнительный анализ результатов базовых моделей между собой.\n",
    "3. Проведите сравнительный анализ результатов композиции и базовых моделей между собой.\n",
    "\n",
    "Описание данных:\n",
    "1. Id number: 1 to 214 (removed from CSV file)\n",
    "2. RI: refractive index\n",
    "3. Na: Sodium (unit measurement: weight percent in corresponding oxide, as are attributes 4-10)\n",
    "4. Mg: Magnesium\n",
    "5. Al: Aluminum\n",
    "6. Si: Silicon\n",
    "6. K: Potassium\n",
    "7. Ca: Calcium\n",
    "8. Ba: Barium\n",
    "9. Fe: Iron\n",
    "10. Type of glass: (class attribute)\n",
    "-- 1 buildingwindowsfloatprocessed \n",
    "-- 2 buildingwindowsnonfloatprocessed \n",
    "-- 3 vehiclewindowsfloatprocessed\n",
    "-- 4 vehiclewindowsnonfloatprocessed (none in this database)\n",
    "-- 5 containers\n",
    "-- 6 tableware\n",
    "-- 7 headlamps"
   ]
  },
  {
   "cell_type": "code",
   "execution_count": null,
   "metadata": {},
   "outputs": [],
   "source": [
    "#блок для импорта библиотек\n"
   ]
  },
  {
   "cell_type": "code",
   "execution_count": null,
   "metadata": {},
   "outputs": [],
   "source": [
    "Препроцессинг данных."
   ]
  },
  {
   "cell_type": "code",
   "execution_count": null,
   "metadata": {},
   "outputs": [],
   "source": []
  },
  {
   "cell_type": "markdown",
   "metadata": {},
   "source": [
    "Разделите данные на тестовую и обучающую выборки."
   ]
  },
  {
   "cell_type": "code",
   "execution_count": null,
   "metadata": {},
   "outputs": [],
   "source": []
  },
  {
   "cell_type": "code",
   "execution_count": null,
   "metadata": {},
   "outputs": [],
   "source": [
    "Сформируйте и обучите базовые модели."
   ]
  },
  {
   "cell_type": "code",
   "execution_count": null,
   "metadata": {},
   "outputs": [],
   "source": []
  },
  {
   "cell_type": "code",
   "execution_count": null,
   "metadata": {},
   "outputs": [],
   "source": [
    "Сформируйте и обучите композицию."
   ]
  },
  {
   "cell_type": "code",
   "execution_count": null,
   "metadata": {},
   "outputs": [],
   "source": []
  },
  {
   "cell_type": "code",
   "execution_count": null,
   "metadata": {},
   "outputs": [],
   "source": [
    "Проведите сравнительный анализ результатов базовых моделей между собой."
   ]
  },
  {
   "cell_type": "code",
   "execution_count": null,
   "metadata": {},
   "outputs": [],
   "source": []
  },
  {
   "cell_type": "code",
   "execution_count": null,
   "metadata": {},
   "outputs": [],
   "source": [
    "Проведите сравнительный анализ результатов композиции и базовых моделей между собой."
   ]
  },
  {
   "cell_type": "code",
   "execution_count": null,
   "metadata": {},
   "outputs": [],
   "source": []
  }
 ],
 "metadata": {
  "kernelspec": {
   "display_name": "Python 3",
   "language": "python",
   "name": "python3"
  },
  "language_info": {
   "codemirror_mode": {
    "name": "ipython",
    "version": 3
   },
   "file_extension": ".py",
   "mimetype": "text/x-python",
   "name": "python",
   "nbconvert_exporter": "python",
   "pygments_lexer": "ipython3",
   "version": "3.6.10"
  }
 },
 "nbformat": 4,
 "nbformat_minor": 4
}
